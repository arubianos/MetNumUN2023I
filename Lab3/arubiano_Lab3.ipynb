{
  "nbformat": 4,
  "nbformat_minor": 0,
  "metadata": {
    "colab": {
      "provenance": [],
      "include_colab_link": true
    },
    "kernelspec": {
      "name": "python3",
      "display_name": "Python 3"
    },
    "language_info": {
      "name": "python"
    }
  },
  "cells": [
    {
      "cell_type": "markdown",
      "metadata": {
        "id": "view-in-github",
        "colab_type": "text"
      },
      "source": [
        "<a href=\"https://colab.research.google.com/github/arubianos/MetNumUN2023I/blob/main/Lab3/arubiano_Lab3.ipynb\" target=\"_parent\"><img src=\"https://colab.research.google.com/assets/colab-badge.svg\" alt=\"Open In Colab\"/></a>"
      ]
    },
    {
      "cell_type": "markdown",
      "source": [
        "## **Linkedln**"
      ],
      "metadata": {
        "id": "tGJhlo8LtCnI"
      }
    },
    {
      "cell_type": "markdown",
      "source": [
        "[Mi perfil](https://www.linkedin.com/in/andres-rubiano-aa6812221/?original_referer=)"
      ],
      "metadata": {
        "id": "msW-lfAitKrf"
      }
    },
    {
      "cell_type": "markdown",
      "source": [
        "## **CERTIFICADOS**"
      ],
      "metadata": {
        "id": "yXd41En2g0qI"
      }
    },
    {
      "cell_type": "markdown",
      "source": [
        "[Certificado 1](https://courses.cognitiveclass.ai/certificates/0bcd370bfc084f0e8e92f0b1b086203d)\n",
        "[Certificado 2](https://courses.cognitiveclass.ai/certificates/78e908238b1d41bf9e5cc9b9213297cc)\n",
        "[Certificado 3](https://courses.cognitiveclass.ai/certificates/0d7ffe3e1bec4a95a74cd0cc03681c52)"
      ],
      "metadata": {
        "id": "LbcMUg_RgVCi"
      }
    }
  ]
}