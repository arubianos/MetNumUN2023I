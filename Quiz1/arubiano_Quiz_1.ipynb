{
  "nbformat": 4,
  "nbformat_minor": 0,
  "metadata": {
    "colab": {
      "provenance": [],
      "authorship_tag": "ABX9TyNWUJ9rfNcKAN4xmJc3qwDW",
      "include_colab_link": true
    },
    "kernelspec": {
      "name": "python3",
      "display_name": "Python 3"
    },
    "language_info": {
      "name": "python"
    }
  },
  "cells": [
    {
      "cell_type": "markdown",
      "metadata": {
        "id": "view-in-github",
        "colab_type": "text"
      },
      "source": [
        "<a href=\"https://colab.research.google.com/github/arubianos/MetNumUN2023I/blob/main/Quiz1/arubiano_Quiz_1.ipynb\" target=\"_parent\"><img src=\"https://colab.research.google.com/assets/colab-badge.svg\" alt=\"Open In Colab\"/></a>"
      ]
    },
    {
      "cell_type": "markdown",
      "source": [
        "***QUIZ 1 Python NumPy - UNCode***\n",
        "Andres Felipe Rubiano Socha"
      ],
      "metadata": {
        "id": "No8kKjiRLAfo"
      }
    },
    {
      "cell_type": "markdown",
      "source": [
        "**Respuestas**"
      ],
      "metadata": {
        "id": "J0YCjPu1LeXw"
      }
    },
    {
      "cell_type": "markdown",
      "source": [
        "## **1. *FizzBuzz*  - Python**"
      ],
      "metadata": {
        "id": "4yghsY8YL1tQ"
      }
    },
    {
      "cell_type": "code",
      "execution_count": null,
      "metadata": {
        "id": "zHYK_x6CK-Ky"
      },
      "outputs": [],
      "source": [
        "#Do not change this function's name, parameters or output format. It will be used in automatic grading.\n",
        "def FizzBuzz(x):\n",
        "    a = (x % 3 == 0) and not (x % 5 == 0)\n",
        "    b = (x % 5 == 0) and not (x % 3 == 0)\n",
        "    c = (x % 3 == 0) and (x % 5 == 0)\n",
        "    if a:\n",
        "      return \"Fizz!\"\n",
        "    elif b:\n",
        "      return \"Buzz!\"\n",
        "    elif c:\n",
        "      return \"FizzBuzz!\"\n",
        "    else:\n",
        "      return \"...\""
      ]
    },
    {
      "cell_type": "markdown",
      "source": [
        "## **2. *FizzBuzzList*  - Python**\n",
        "---\n",
        "\n",
        "Write the function *FizzBuzzList* that returns a list with the answers of *FizzBuzz* for the integer numbers $1$ to $n$ (including $n$)."
      ],
      "metadata": {
        "id": "wYDQt99LL7fP"
      }
    },
    {
      "cell_type": "code",
      "source": [
        "#Do not change this function's name, parameters or output format. It will be used in automatic grading.\n",
        "def FizzBuzzList(n):\n",
        "    ans = []\n",
        "    for i in range(n):\n",
        "      ans.append(FizzBuzz(i+1))\n",
        "    return ans"
      ],
      "metadata": {
        "id": "mv0XyoAOL803"
      },
      "execution_count": null,
      "outputs": []
    },
    {
      "cell_type": "markdown",
      "source": [
        "## **3. *Standarize* - z scores - NumPy**"
      ],
      "metadata": {
        "id": "URVoGbPBMAIf"
      }
    },
    {
      "cell_type": "code",
      "source": [
        "#Do not change this function's name, parameters or output format. It will be used in automatic grading.\n",
        "\n",
        "import numpy as np\n",
        "\n",
        "def standarize(X):\n",
        "  X_standarized = (X-X.mean())/X.std()\n",
        "  return X_standarized"
      ],
      "metadata": {
        "id": "9J80H5FaMDaP"
      },
      "execution_count": null,
      "outputs": []
    },
    {
      "cell_type": "markdown",
      "source": [
        "## **4. *Main diagonal matrix*  - NumPy**"
      ],
      "metadata": {
        "id": "iAuvX3qoMLMv"
      }
    },
    {
      "cell_type": "code",
      "source": [
        "#Do not change this function's name, parameters or output format. It will be used in automatic grading.\n",
        "\n",
        "import numpy as np\n",
        "\n",
        "def main_diagonal_matrix(A):\n",
        "  D = np.diag(np.diag(A)).astype(float)\n",
        "  return D"
      ],
      "metadata": {
        "id": "8TOGLVK_MPiP"
      },
      "execution_count": null,
      "outputs": []
    }
  ]
}